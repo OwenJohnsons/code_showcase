{
 "cells": [
  {
   "cell_type": "code",
   "execution_count": 3,
   "metadata": {},
   "outputs": [],
   "source": [
    "#importing packages\n",
    "\n",
    "import numpy as np\n",
    "import matplotlib.pyplot as plt\n",
    "\n",
    "#first commit "
   ]
  },
  {
   "cell_type": "code",
   "execution_count": 2,
   "metadata": {},
   "outputs": [],
   "source": [
    "# Question 1: Part (a)\n",
    "# Create a function with the signature Vectorlength (x, y) that computes the square root of the sum of two variables\n",
    "\n",
    "def vectorlength(x, y): #defining the function \n",
    "\n",
    "    z = np.sqrt(x**2 + y**2) #two varibles which will act as the specific parameters of each vector\n",
    "\n",
    "    print(z)"
   ]
  },
  {
   "cell_type": "code",
   "execution_count": 7,
   "metadata": {},
   "outputs": [
    {
     "name": "stdout",
     "output_type": "stream",
     "text": [
      "7.810249675906654\n",
      "5.0990195135927845\n"
     ]
    }
   ],
   "source": [
    "#Question 1: Part (b)\n",
    "\n",
    "a = vectorlength(5, 6) # The length of the first vector asked to be computed in part (b)\n",
    "\n",
    "\n",
    "b = vectorlength(-1, 5) # The length of the second vector asked to be computed in part (b)\n",
    "\n"
   ]
  },
  {
   "cell_type": "code",
   "execution_count": 8,
   "metadata": {},
   "outputs": [
    {
     "name": "stdout",
     "output_type": "stream",
     "text": [
      "Sin(1) = 0.841\n"
     ]
    }
   ],
   "source": [
    "#Question 1: Part (c)\n",
    "\n",
    "print('Sin(1) =', np.sin(1).round(3)) #using the .round() function to round integer to deired significant figuire \n"
   ]
  },
  {
   "cell_type": "code",
   "execution_count": 9,
   "metadata": {},
   "outputs": [
    {
     "data": {
      "text/plain": [
       "[1, 1, 1, 1, 1, 0, 1, 0, 1, 0]"
      ]
     },
     "execution_count": 9,
     "metadata": {},
     "output_type": "execute_result"
    }
   ],
   "source": [
    "#Question 2: Part (a)\n",
    "\n",
    "#Copied Code from assignment worksheet \n",
    "\n",
    "def IsPrime(n):\n",
    "    i = 2 \n",
    "    while i < np.sqrt(n):\n",
    "        if(n % i == 0):\n",
    "            return 0 \n",
    "        i += 1 \n",
    "    return 1 \n",
    "\n",
    "[IsPrime(n) for n in range(1,11)] #prints array of outputs for inputs between 1 and 10"
   ]
  },
  {
   "cell_type": "code",
   "execution_count": 10,
   "metadata": {},
   "outputs": [
    {
     "data": {
      "text/plain": [
       "[0, 1, 1, 1, 1, 0, 1, 0, 1, 0]"
      ]
     },
     "execution_count": 10,
     "metadata": {},
     "output_type": "execute_result"
    }
   ],
   "source": [
    "#Question 2: Part (b)\n",
    "#Using an if statement to correct 1 returning a positive output for an input of 1\n",
    "\n",
    "def IsPrime(n):\n",
    "    if n == 1:   #if 1 is inputted 0 is returned  \n",
    "        return 0 \n",
    "    else:        #if not the code goes on as normal\n",
    "        i = 2 \n",
    "        while i < np.sqrt(n):\n",
    "            if(n % i == 0):\n",
    "                return 0 \n",
    "            i += 1 \n",
    "        return 1 \n",
    "    \n",
    "[IsPrime(n) for n in range(1, 11)]"
   ]
  },
  {
   "cell_type": "code",
   "execution_count": 82,
   "metadata": {},
   "outputs": [
    {
     "data": {
      "text/plain": [
       "[0, 1, 1, 0, 1, 0, 1, 0, 0, 0]"
      ]
     },
     "execution_count": 82,
     "metadata": {},
     "output_type": "execute_result"
    }
   ],
   "source": [
    "#Question 2: Part (c)\n",
    "#By putting a print statement inside the while loop, work out why the function returns, e.g., 1 for n=9. Fix the function to make it work\n",
    "\n",
    "def IsPrime(n):\n",
    "    if n == 1:   #if 1 is inputted 0 is returned  \n",
    "        return 0 \n",
    "    else:        #if not the code goes on as normal\n",
    "        i = 2 \n",
    "        while i <= np.sqrt(n): #consideration of the less than or equal acounts for cases like 9 where 3 is a multiple\n",
    "#             prints (n, i)\n",
    "            if(n % i == 0): \n",
    "                return 0 \n",
    "            i += 1 \n",
    "        return 1 \n",
    "    \n",
    "[IsPrime(n) for n in range(1, 11)]\n",
    "    "
   ]
  },
  {
   "cell_type": "code",
   "execution_count": 83,
   "metadata": {},
   "outputs": [],
   "source": [
    "#Question 2: Part (d)\n",
    "\n",
    "#Commiting the project to git-hub with the fixed function "
   ]
  },
  {
   "cell_type": "code",
   "execution_count": 84,
   "metadata": {},
   "outputs": [
    {
     "name": "stdout",
     "output_type": "stream",
     "text": [
      "The number of primes less than 1000 is 168\n"
     ]
    }
   ],
   "source": [
    "#Question 2: Part (e)\n",
    "\n",
    "#Writing a loop to add the total number of primes from 1 to 1000 \n",
    "\n",
    "primes = [IsPrime(n) for n in range(1, 1000)] #creating a list of a true or false values for primes between 0 - 999 using a for loop.\n",
    "\n",
    "total_primes = primes.count(1) #Using the .count function to track the number of true ouputs from the for loop. \n",
    "\n",
    "print(\"The number of primes less than 1000 is\", total_primes) #printing the output "
   ]
  },
  {
   "cell_type": "code",
   "execution_count": 12,
   "metadata": {},
   "outputs": [
    {
     "name": "stdout",
     "output_type": "stream",
     "text": [
      "179\n",
      "1254\n"
     ]
    }
   ],
   "source": [
    "#Question 2: Part(f)\n",
    "def PiPrime(b):\n",
    "    primes = [IsPrime(n) for n in range(1,b + 1)] #creating a new function that will give primes from the range of 1 to a number b\n",
    "    print(primes.count(1))\n",
    "    \n",
    "PiPrime(1000) #testing the function with the values specified in the assignment \n",
    "    \n",
    "PiPrime(10000) #cross referencing with wolframalpha the function appears to output the correct value. "
   ]
  },
  {
   "cell_type": "code",
   "execution_count": 15,
   "metadata": {},
   "outputs": [
    {
     "ename": "NameError",
     "evalue": "name 'PrimeCount' is not defined",
     "output_type": "error",
     "traceback": [
      "\u001b[0;31m---------------------------------------------------------------------------\u001b[0m",
      "\u001b[0;31mNameError\u001b[0m                                 Traceback (most recent call last)",
      "\u001b[0;32m<ipython-input-15-560b20e15036>\u001b[0m in \u001b[0;36m<module>\u001b[0;34m\u001b[0m\n\u001b[1;32m      5\u001b[0m \u001b[0mi\u001b[0m \u001b[0;34m=\u001b[0m \u001b[0;36m0\u001b[0m\u001b[0;34m\u001b[0m\u001b[0;34m\u001b[0m\u001b[0m\n\u001b[1;32m      6\u001b[0m \u001b[0;32mwhile\u001b[0m \u001b[0mi\u001b[0m \u001b[0;34m<\u001b[0m \u001b[0mnp\u001b[0m\u001b[0;34m.\u001b[0m\u001b[0msize\u001b[0m\u001b[0;34m(\u001b[0m\u001b[0mPi\u001b[0m\u001b[0;34m)\u001b[0m\u001b[0;34m:\u001b[0m\u001b[0;34m\u001b[0m\u001b[0;34m\u001b[0m\u001b[0m\n\u001b[0;32m----> 7\u001b[0;31m     \u001b[0mPi\u001b[0m\u001b[0;34m[\u001b[0m\u001b[0mi\u001b[0m\u001b[0;34m]\u001b[0m \u001b[0;34m=\u001b[0m \u001b[0mPrimeCount\u001b[0m\u001b[0;34m(\u001b[0m\u001b[0mi\u001b[0m\u001b[0;34m)\u001b[0m\u001b[0;34m\u001b[0m\u001b[0;34m\u001b[0m\u001b[0m\n\u001b[0m\u001b[1;32m      8\u001b[0m     \u001b[0mi\u001b[0m \u001b[0;34m+=\u001b[0m \u001b[0;36m1\u001b[0m\u001b[0;34m\u001b[0m\u001b[0;34m\u001b[0m\u001b[0m\n",
      "\u001b[0;31mNameError\u001b[0m: name 'PrimeCount' is not defined"
     ]
    }
   ],
   "source": [
    "#Question 2: Part(g)\n",
    "\n",
    "x = np.arange(0, 40, 1)\n",
    "Pi = np.zeros(40)\n",
    "i = 0 \n",
    "while i < np.size(Pi):\n",
    "    Pi[i] = PrimeCount(i)\n",
    "    i += 1"
   ]
  },
  {
   "cell_type": "code",
   "execution_count": 18,
   "metadata": {},
   "outputs": [
    {
     "data": {
      "text/plain": [
       "Text(0.5, 0, 'x-axis')"
      ]
     },
     "execution_count": 18,
     "metadata": {},
     "output_type": "execute_result"
    },
    {
     "data": {
      "image/png": "[encoded data removed]",
      "text/plain": [
       "<Figure size 432x288 with 1 Axes>"
      ]
     },
     "metadata": {
      "needs_background": "light"
     },
     "output_type": "display_data"
    }
   ],
   "source": [
    "plt.plot(x, Pi, 'ro') #plots the axis with '' as the desired color parameter\n",
    "plt.title('''X vs. Pi''') #titles the graph \n",
    "plt.ylabel('''Pi(x)''') #y-axis title \n",
    "plt.xlabel('''x-axis''') #x-axis title "
   ]
  },
  {
   "cell_type": "code",
   "execution_count": null,
   "metadata": {},
   "outputs": [],
   "source": [
    "#Question 2: Part(h)"
   ]
  },
  {
   "cell_type": "code",
   "execution_count": 21,
   "metadata": {},
   "outputs": [],
   "source": [
    "#Question 3: Part (a)\n",
    "#Loading the text file and committing\n",
    "\n",
    "imported_file = np.loadtxt('PowerLawOrExponential.txt') #importing the file \n",
    "\n",
    "# print(np.split(imported_file, [1,2]))\n",
    "\n",
    "\n",
    "\n",
    "# print(imported_file) #printing the file "
   ]
  },
  {
   "cell_type": "code",
   "execution_count": 22,
   "metadata": {},
   "outputs": [],
   "source": [
    "#Question 3: Part (b)\n",
    "#Splitting the array into x and y \n",
    "\n",
    "x = imported_file[:,0]\n",
    "y = imported_file[:,1]\n"
   ]
  },
  {
   "cell_type": "code",
   "execution_count": 23,
   "metadata": {},
   "outputs": [
    {
     "data": {
      "image/png": "[encoded data removed]",
      "text/plain": [
       "<Figure size 432x288 with 1 Axes>"
      ]
     },
     "metadata": {
      "needs_background": "light"
     },
     "output_type": "display_data"
    }
   ],
   "source": [
    "#Question 3: Part(c) i\n",
    "#First Graph\n",
    "\n",
    "fig, ax = plt.subplots() #code works as the same as the previous graph just simplified moe \n",
    "ax.plot(x, y)\n",
    "\n",
    "ax.set(xlabel='x', ylabel='y',\n",
    "       title='Log')\n",
    "ax.grid()\n",
    "\n",
    "plt.show()"
   ]
  },
  {
   "cell_type": "code",
   "execution_count": 24,
   "metadata": {},
   "outputs": [
    {
     "data": {
      "image/png": "[encoded data removed]",
      "text/plain": [
       "<Figure size 432x288 with 1 Axes>"
      ]
     },
     "metadata": {
      "needs_background": "light"
     },
     "output_type": "display_data"
    }
   ],
   "source": [
    "#Question 3: Part(c) ii  \n",
    "\n",
    "x = np.log(x)\n",
    "y = np.log(y)\n",
    "\n",
    "fig, ax = plt.subplots()\n",
    "ax.plot(x, y)\n",
    "\n",
    "ax.set(xlabel='x', ylabel='y',\n",
    "       title='Log')\n",
    "ax.grid()\n",
    "\n",
    "plt.show()"
   ]
  },
  {
   "cell_type": "code",
   "execution_count": null,
   "metadata": {},
   "outputs": [],
   "source": [
    "#Question 3: Part (d)\n",
    "\n",
    "#It's a discrete representation of the power law due to the straight line in the log-log graph it is linear. "
   ]
  },
  {
   "cell_type": "code",
   "execution_count": null,
   "metadata": {},
   "outputs": [],
   "source": [
    "#Question 3: Part (e)\n",
    "#What is the value for 'n'?\n",
    "\n",
    "#Using the straight line graph we can see by observation that the value for n is equal to 2. \n"
   ]
  },
  {
   "cell_type": "code",
   "execution_count": null,
   "metadata": {},
   "outputs": [],
   "source": [
    "#Question 3: Part (f)\n",
    "\n",
    "#Final commits "
   ]
  }
 ],
 "metadata": {
  "kernelspec": {
   "display_name": "Python 3",
   "language": "python",
   "name": "python3"
  },
  "language_info": {
   "codemirror_mode": {
    "name": "ipython",
    "version": 3
   },
   "file_extension": ".py",
   "mimetype": "text/x-python",
   "name": "python",
   "nbconvert_exporter": "python",
   "pygments_lexer": "ipython3",
   "version": "3.7.1"
  }
 },
 "nbformat": 4,
 "nbformat_minor": 2
}
