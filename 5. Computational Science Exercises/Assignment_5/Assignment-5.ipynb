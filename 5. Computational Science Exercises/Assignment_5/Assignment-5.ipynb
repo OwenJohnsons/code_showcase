{
 "cells": [
  {
   "cell_type": "markdown",
   "metadata": {},
   "source": [
    "#  Assignment 5\n",
    "\n",
    "This assignment covers material on matrices, norms, condition numbers and eigensystems. The assignment is due by 5pm on Friday the 17th of April.\n",
    "\n",
    "The breakdown of the marks is as follows:\n",
    "\n",
    "Question 0 - [1 mark]  \n",
    "Question 1 - [7 marks]  \n",
    "Questino 2 - [6 marks]  \n",
    "Question 3 - [7 marks]  \n",
    "Question 4 - [9 marks]  "
   ]
  },
  {
   "cell_type": "markdown",
   "metadata": {},
   "source": [
    "# Question 0\n",
    "\n",
    "You should have saved this notebook to your ACM20030-Assignments folder. Now:\n",
    "- commit the notebook to your local repository\n",
    "- push the changes to the GitHub"
   ]
  },
  {
   "cell_type": "code",
   "execution_count": 31,
   "metadata": {},
   "outputs": [],
   "source": [
    "import numpy as np\n",
    "from numpy import linalg as la\n",
    "np.set_printoptions(linewidth=200)  # This stops line wrapping of larger matrices"
   ]
  },
  {
   "cell_type": "markdown",
   "metadata": {},
   "source": [
    "# Question 1 - practice manipulating arrays\n",
    "\n",
    "This questions asks you write a few functions for manipulating arrays of data"
   ]
  },
  {
   "cell_type": "markdown",
   "metadata": {},
   "source": [
    "## Q1 a\n",
    "\n",
    "Write a function that checks if a given $n\\times n$ matrix is symmetric. Use only loops and `.shape` function from numpy (do not use any other special numpy functions)."
   ]
  },
  {
   "cell_type": "code",
   "execution_count": 32,
   "metadata": {},
   "outputs": [],
   "source": [
    "def symmetrytest(A):\n",
    "    n = A.shape[0] #returns current shape of a numpy array. \n",
    "#     print(n)\n",
    "    if(A.shape[1]!= n):\n",
    "        return 0\n",
    "    for i in range(0, n):\n",
    "        for j in range(i + 1, n): #Checks every number below the diagonal\n",
    "            if(A[i][j] != A[j][i]): #if not equal not symmetirc\n",
    "                return 0 \n",
    "    return 1"
   ]
  },
  {
   "cell_type": "markdown",
   "metadata": {},
   "source": [
    "Test your function on the two matrices below"
   ]
  },
  {
   "cell_type": "code",
   "execution_count": 33,
   "metadata": {},
   "outputs": [],
   "source": [
    "A = np.random.rand(5, 5)\n",
    "SymMatrix = (A + A.T)/2"
   ]
  },
  {
   "cell_type": "code",
   "execution_count": 34,
   "metadata": {},
   "outputs": [],
   "source": [
    "# prints to test function\n",
    "# print(A)\n",
    "# print(SymMatrix)\n",
    "# print(A.shape[1])"
   ]
  },
  {
   "cell_type": "code",
   "execution_count": 35,
   "metadata": {},
   "outputs": [
    {
     "data": {
      "text/plain": [
       "0"
      ]
     },
     "execution_count": 35,
     "metadata": {},
     "output_type": "execute_result"
    }
   ],
   "source": [
    "#if symmetric 1 will be returned if not a 0 is returned. \n",
    "\n",
    "symmetrytest(A)"
   ]
  },
  {
   "cell_type": "code",
   "execution_count": 36,
   "metadata": {},
   "outputs": [
    {
     "data": {
      "text/plain": [
       "1"
      ]
     },
     "execution_count": 36,
     "metadata": {},
     "output_type": "execute_result"
    }
   ],
   "source": [
    "symmetrytest(SymMatrix)"
   ]
  },
  {
   "cell_type": "markdown",
   "metadata": {},
   "source": [
    "## Q1 b\n",
    "\n",
    "Write a function to transpose a general $n\\times n$ matrix. Do this by writing loops and not using any special functions like `np.transpose()`, `A.T`, or any functions from any other library."
   ]
  },
  {
   "cell_type": "code",
   "execution_count": 37,
   "metadata": {},
   "outputs": [],
   "source": [
    "def transpose(A):\n",
    "    n = A.shape[0] #shape of Matrix A \n",
    "    B = np.empty([n, n]) #Return a new array of given shape and type, without initializing entries\n",
    "    for i in range(0, n):\n",
    "        for j in range(0, n): #for all values swaps them diagonally thus transpose is obtained. \n",
    "            B[i][j] = A[j][i]\n",
    "    return B"
   ]
  },
  {
   "cell_type": "markdown",
   "metadata": {},
   "source": [
    "Check your code by transposing the below random matrix and checking that $A^T \\neq A$ and $(A^T)^T - A = 0$"
   ]
  },
  {
   "cell_type": "code",
   "execution_count": 38,
   "metadata": {
    "scrolled": false
   },
   "outputs": [],
   "source": [
    "A = np.random.rand(6, 6)"
   ]
  },
  {
   "cell_type": "code",
   "execution_count": 39,
   "metadata": {},
   "outputs": [
    {
     "name": "stdout",
     "output_type": "stream",
     "text": [
      "[[0.80261215 0.95291481 0.06618431 0.00711457 0.04169387 0.02797157]\n",
      " [0.98627718 0.35064656 0.96643981 0.52098375 0.25743676 0.11908936]\n",
      " [0.94468356 0.6652367  0.08343675 0.87144822 0.27708641 0.1078733 ]\n",
      " [0.07994404 0.27901793 0.29286343 0.1920851  0.53389002 0.4087916 ]\n",
      " [0.55227225 0.24601707 0.89556209 0.09686409 0.1970105  0.56539503]\n",
      " [0.56174236 0.3220829  0.88632236 0.04812905 0.59132507 0.20259943]]\n",
      "Transposed matrix, [[0.80261215 0.98627718 0.94468356 0.07994404 0.55227225 0.56174236]\n",
      " [0.95291481 0.35064656 0.6652367  0.27901793 0.24601707 0.3220829 ]\n",
      " [0.06618431 0.96643981 0.08343675 0.29286343 0.89556209 0.88632236]\n",
      " [0.00711457 0.52098375 0.87144822 0.1920851  0.09686409 0.04812905]\n",
      " [0.04169387 0.25743676 0.27708641 0.53389002 0.1970105  0.59132507]\n",
      " [0.02797157 0.11908936 0.1078733  0.4087916  0.56539503 0.20259943]]\n",
      "Thus the matricies are not equal.\n"
     ]
    }
   ],
   "source": [
    "print(A)\n",
    "\n",
    "print(\"Transposed matrix,\", transpose(A))\n",
    "\n",
    "print(\"Thus the matricies are not equal.\")"
   ]
  },
  {
   "cell_type": "code",
   "execution_count": 40,
   "metadata": {},
   "outputs": [
    {
     "name": "stdout",
     "output_type": "stream",
     "text": [
      "[[0. 0. 0. 0. 0. 0.]\n",
      " [0. 0. 0. 0. 0. 0.]\n",
      " [0. 0. 0. 0. 0. 0.]\n",
      " [0. 0. 0. 0. 0. 0.]\n",
      " [0. 0. 0. 0. 0. 0.]\n",
      " [0. 0. 0. 0. 0. 0.]] = 0\n"
     ]
    }
   ],
   "source": [
    "print(transpose(transpose(A))-A,\"= 0\")"
   ]
  },
  {
   "cell_type": "markdown",
   "metadata": {},
   "source": [
    "## Q1c\n",
    "\n",
    "Write a function that finds the maximum entry in a matrix (where the matrix does not need to be square). Do this by writing loops and not using any special functions like `np.max` or any functions from any other library."
   ]
  },
  {
   "cell_type": "code",
   "execution_count": 41,
   "metadata": {},
   "outputs": [],
   "source": [
    "def maximum(A): #Using a power method approach as outlined in lectures. \n",
    "    Max = A[0][0]\n",
    "    for i in range(0,A.shape[0]):\n",
    "        for j in range(0,A.shape[1]):\n",
    "            if(Max < A[i][j]):\n",
    "                Max = A[i][j]\n",
    "    return Max"
   ]
  },
  {
   "cell_type": "markdown",
   "metadata": {},
   "source": [
    "Check your result by comparing to `np.max(A)` for the below random matrix"
   ]
  },
  {
   "cell_type": "code",
   "execution_count": 42,
   "metadata": {},
   "outputs": [],
   "source": [
    "A = np.random.rand(4,5)"
   ]
  },
  {
   "cell_type": "code",
   "execution_count": 43,
   "metadata": {},
   "outputs": [
    {
     "name": "stdout",
     "output_type": "stream",
     "text": [
      "np.max(A) =  0.9969941785327485\n"
     ]
    }
   ],
   "source": [
    "print(\"np.max(A) = \", np.max(A))"
   ]
  },
  {
   "cell_type": "code",
   "execution_count": 44,
   "metadata": {},
   "outputs": [
    {
     "name": "stdout",
     "output_type": "stream",
     "text": [
      "Maximum(A) = 0.9969941785327485\n"
     ]
    }
   ],
   "source": [
    "print(\"Maximum(A) =\", maximum(A))"
   ]
  },
  {
   "cell_type": "markdown",
   "metadata": {},
   "source": [
    "# Question 2:  matrix norms\n",
    "\n",
    "In the lectures we focused on the $L^2$-norm. We also briefly mentioned the $L^1$ and $L^\\infty$ norm. Let's look at calculating those as well for a general $m\\times n$ matrix."
   ]
  },
  {
   "cell_type": "markdown",
   "metadata": {},
   "source": [
    "# Q2a\n",
    "\n",
    "The $L^1$ norm is given by\n",
    "\n",
    "$$ \\lVert A \\rVert_1 = \\max_j \\sum^m_{i=1} |a_{ij}| $$\n",
    "\n",
    "i.e., it is the max of the sums of the absolute values of each column. Write a function that computes the $L^1$-norm using only loops. The function should use no special numpy functions except `np.abs()`."
   ]
  },
  {
   "cell_type": "code",
   "execution_count": 45,
   "metadata": {},
   "outputs": [],
   "source": [
    "def L1(A):\n",
    "    max1 = 0\n",
    "    for j in range(0,A.shape[1]):\n",
    "        sum1 = 0\n",
    "        for i in range(0,A.shape[0]):\n",
    "            sum1 += np.abs(A[i][j])\n",
    "        if(max1 < sum1):\n",
    "            max1 = sum1\n",
    "    return max1"
   ]
  },
  {
   "cell_type": "markdown",
   "metadata": {},
   "source": [
    "Check your result against NumPy's `la.norm(A,1)` function for the following random matrix"
   ]
  },
  {
   "cell_type": "code",
   "execution_count": 46,
   "metadata": {},
   "outputs": [],
   "source": [
    "A = np.random.rand(3, 4)"
   ]
  },
  {
   "cell_type": "code",
   "execution_count": 47,
   "metadata": {},
   "outputs": [
    {
     "name": "stdout",
     "output_type": "stream",
     "text": [
      "la.norm(A,1) =  1.6600287138853842\n"
     ]
    }
   ],
   "source": [
    "print(\"la.norm(A,1) = \", la.norm(A,1))"
   ]
  },
  {
   "cell_type": "code",
   "execution_count": 48,
   "metadata": {},
   "outputs": [
    {
     "name": "stdout",
     "output_type": "stream",
     "text": [
      "L1(A) = 1.6600287138853842\n"
     ]
    }
   ],
   "source": [
    "print(\"L1(A) =\", L1(A))"
   ]
  },
  {
   "cell_type": "markdown",
   "metadata": {},
   "source": [
    "## Q2b\n",
    "\n",
    "The $L^\\infty$ norm is given by \n",
    "\n",
    "$$\\lVert A \\rVert_\\infty = \\max_i \\sum_{j=1}^n |a_{ij}|$$\n",
    "\n",
    "i.e., it is the max of the sums of the absolute values of each row. Write a function that computes the $L^\\infty$-norm using only loops and no special numpy functions."
   ]
  },
  {
   "cell_type": "code",
   "execution_count": 49,
   "metadata": {},
   "outputs": [],
   "source": [
    "def Linf(A):\n",
    "    msum = 0\n",
    "    for i in range(0, A.shape[0]):\n",
    "        sum1 = 0\n",
    "        for j in range(0,A.shape[1]):\n",
    "            sum1 += np.abs(A[i][j])\n",
    "        if(msum < sum1):\n",
    "            msum = sum1\n",
    "    return msum"
   ]
  },
  {
   "cell_type": "markdown",
   "metadata": {},
   "source": [
    "Check your result against NumPy's `la.norm(A,np.inf)` function for the following random matrix"
   ]
  },
  {
   "cell_type": "code",
   "execution_count": 50,
   "metadata": {},
   "outputs": [],
   "source": [
    "A = np.random.rand(3, 4)"
   ]
  },
  {
   "cell_type": "code",
   "execution_count": 51,
   "metadata": {},
   "outputs": [
    {
     "name": "stdout",
     "output_type": "stream",
     "text": [
      "la.norm(A, np.inf) =  2.959644344435546\n"
     ]
    }
   ],
   "source": [
    "print(\"la.norm(A, np.inf) = \", la.norm(A, np.inf))"
   ]
  },
  {
   "cell_type": "code",
   "execution_count": 52,
   "metadata": {},
   "outputs": [
    {
     "name": "stdout",
     "output_type": "stream",
     "text": [
      "Linf(A) = 2.959644344435546\n"
     ]
    }
   ],
   "source": [
    "print(\"Linf(A) =\", Linf(A))"
   ]
  },
  {
   "cell_type": "markdown",
   "metadata": {},
   "source": [
    "# Question 3: ill-conditions systems of equations\n",
    "\n",
    "In this question you can use any of NumPy's functions.\n",
    "\n",
    "## Q3a\n",
    "\n",
    "Which of the following three matrices, $A1, A2, A3$, are ill-conditioned. State the reason for your conclusion."
   ]
  },
  {
   "cell_type": "code",
   "execution_count": 53,
   "metadata": {},
   "outputs": [],
   "source": [
    "A1 = np.array([[0.988746460106, 0.351486109477, 0.024911477532, 0.384039749683],\n",
    "       [0.282104657306, 0.239884151775, 0.36170151991 , 0.903082266861],\n",
    "       [0.59333290915 , 0.637178863968, 0.241229214635, 0.685595037901],\n",
    "       [0.013591747828, 0.917926970364, 0.458689093885, 0.157821121254]])\n",
    "\n",
    "A2 = np.array([[ 2.852416473483e-01,  3.803483118694e-01,  2.697704226632e-01,  6.810611849029e-01],\n",
    "       [ 6.622827828376e-01,  6.447943415836e-01,  4.387842058829e-01,  1.530575702376e+00],\n",
    "       [ 3.672130860703e-01,  8.309522079704e-01,  9.975487474007e-01,  5.678296337101e-01],\n",
    "       [ 4.036490000599e-01,  6.865978225967e-06,  8.788095913773e-01, -7.150472427928e-02]])\n",
    "\n",
    "A3 = np.array([[0.131923621844, 0.245316154195, 0.732362341613, 0.957047891764],\n",
    "       [0.91290446184 , 0.512312007959, 0.391938831444, 0.092509684772],\n",
    "       [0.648708523652, 0.608576675797, 0.576773587276, 0.065385122929],\n",
    "       [0.502955480393, 0.084082960221, 0.659487390444, 0.662958739412]])"
   ]
  },
  {
   "cell_type": "code",
   "execution_count": 54,
   "metadata": {},
   "outputs": [
    {
     "name": "stdout",
     "output_type": "stream",
     "text": [
      "21.552466488381846 is A1's condition number thus we can conclude it's well conditioned.\n",
      "13334936994.070848 is A2's condition number thus we can conclude it's well conditioned.\n",
      "15.12244969941062 is A3's condition number thus we can conclude it's well conditioned.\n"
     ]
    }
   ],
   "source": [
    "print(la.cond(A1), \"is A1's condition number thus we can conclude it's well conditioned.\")\n",
    "print(la.cond(A2), \"is A2's condition number thus we can conclude it's well conditioned.\")\n",
    "print(la.cond(A3), \"is A3's condition number thus we can conclude it's well conditioned.\")"
   ]
  },
  {
   "cell_type": "markdown",
   "metadata": {},
   "source": [
    "# Q3b\n",
    "\n",
    "With $b = [1,2,3,4]$ and $\\delta b = [0.1,0,0,0]$ for $A2$ and $A3$ calculate the percentage change in $x$ due to a small change in $b$, i.e., calculate \n",
    "\n",
    "$$100\\times\\frac{\\lVert \\delta x_i\\rVert_2}{\\lVert x_i \\rVert_2}\\quad\\text{and}\\quad 100\\times\\frac{\\lVert \\delta b\\rVert_2}{\\lVert b \\rVert_2}$$\n",
    "\n",
    "where $(x_i+\\delta x_i)  = A_i^{-1}(b+\\delta b)$ and $i\\in\\{2,3\\}$."
   ]
  },
  {
   "cell_type": "code",
   "execution_count": 55,
   "metadata": {},
   "outputs": [],
   "source": [
    "def L2(x):\n",
    "    Sum = 0\n",
    "    for i in x:\n",
    "        Sum += i**2\n",
    "    return(np.sqrt(Sum))"
   ]
  },
  {
   "cell_type": "code",
   "execution_count": 56,
   "metadata": {},
   "outputs": [],
   "source": [
    "b = [1,2,3,4]\n",
    "db = [0.1,0,0,0]"
   ]
  },
  {
   "cell_type": "code",
   "execution_count": 57,
   "metadata": {},
   "outputs": [
    {
     "name": "stdout",
     "output_type": "stream",
     "text": [
      "Change in b = 1.83 %\n"
     ]
    }
   ],
   "source": [
    "print(\"Change in b =\", round(100*L2(db) / L2(b), 2), \"%\")"
   ]
  },
  {
   "cell_type": "code",
   "execution_count": 58,
   "metadata": {},
   "outputs": [],
   "source": [
    "lA2b = L2(np.dot(la.inv(A2), b))\n",
    "lA2db= L2(np.dot(la.inv(A2),db))"
   ]
  },
  {
   "cell_type": "code",
   "execution_count": 59,
   "metadata": {},
   "outputs": [
    {
     "name": "stdout",
     "output_type": "stream",
     "text": [
      "Change in x for A2 = 512.62 %\n"
     ]
    }
   ],
   "source": [
    "print(\"Change in x for A2 =\", round(100*lA2db / lA2b,2), \"%\")"
   ]
  },
  {
   "cell_type": "code",
   "execution_count": 60,
   "metadata": {},
   "outputs": [],
   "source": [
    "lA3b = L2(np.dot(la.inv(A3), b))\n",
    "lA3db= L2(np.dot(la.inv(A3),db))"
   ]
  },
  {
   "cell_type": "code",
   "execution_count": 61,
   "metadata": {},
   "outputs": [
    {
     "name": "stdout",
     "output_type": "stream",
     "text": [
      "Change in x for A3 = 2.17 %\n"
     ]
    }
   ],
   "source": [
    "print(\"Change in x for A3 =\", round(100*lA3db / lA3b,2), \"%\")"
   ]
  },
  {
   "cell_type": "markdown",
   "metadata": {},
   "source": [
    "Which system of equations is more sensitive to small changes in $b$? How could you have guessed this from the answer to the Q3a?"
   ]
  },
  {
   "cell_type": "code",
   "execution_count": 62,
   "metadata": {},
   "outputs": [],
   "source": [
    "# Answer here\n",
    "\n",
    "#Due to it's large condition number, A2 has the highest sensitivity due to changes in b.\n",
    "#This can be seen from comparison of the other condition numbers in Q3 (a)"
   ]
  },
  {
   "cell_type": "markdown",
   "metadata": {},
   "source": [
    "# Question 4: eigensystems\n",
    "\n",
    "In this question we look at finding eigenvalues and eigenvectors\n",
    "\n",
    "## Q4a\n",
    "\n",
    "You may use any of NumPy's functions for this sub-question.\n",
    "\n",
    "Find the eigenvalues and eigenvectors for the below matrix. Print out the eigenvalues sorted by descending value and explicitly show that eigenvalues/eigenvector pairs satisfy $Ax = \\lambda x$."
   ]
  },
  {
   "cell_type": "code",
   "execution_count": 63,
   "metadata": {},
   "outputs": [],
   "source": [
    "A = np.array([[1, 4, 5], [4, 5, 4], [6, 7, 9]])"
   ]
  },
  {
   "cell_type": "code",
   "execution_count": 64,
   "metadata": {},
   "outputs": [
    {
     "name": "stdout",
     "output_type": "stream",
     "text": [
      "The eigenvlaues are 15.786 , 1.266 and -2.052\n",
      "A * vectors[0] = [ -6.1962015   -7.01266016 -12.71289871] = 15.79 * vectors[0] = [ -6.1962015   -7.01266016 -12.71289871]\n",
      "A * vectors[1] = [ 1.83806756 -0.74382849 -0.52676368] = -2.05 * vectors[1] = [ 1.83806756 -0.74382849 -0.52676368]\n",
      "A * vectors[2] = [ 0.12430099 -0.98053324  0.79103825] = 1.27 * vectors[2] = [ 0.12430099 -0.98053324  0.79103825]\n"
     ]
    }
   ],
   "source": [
    "(values,vectors) = la.eig(A)\n",
    "print(\"The eigenvlaues are\",round(values[0],3),\",\",round(values[2],3),\"and\",round(values[1],3))\n",
    "for i in range(0,3):\n",
    "    print(\"A * vectors[\"+str(i)+\"] =\",np.dot(A,vectors[:,i]),\"=\",round(values[i],2),\"* vectors[\"+str(i)+\"] =\",np.dot(values[i],vectors[:,i]))"
   ]
  },
  {
   "cell_type": "markdown",
   "metadata": {},
   "source": [
    "# Q4b\n",
    "\n",
    "Without using NumPy's `la.eig()` (or similar functions), find the 4 eigenvalues and eigenvectors of the following matrix. Hint: Use the power method for the max eigenvalue (given below in `MaxEigenvalue`), the power method applied to the inverse for the smallest eigenvalue, and apply Hotelling's deflation twice to find the second and third eigenvalues/eigenvectors."
   ]
  },
  {
   "cell_type": "code",
   "execution_count": 65,
   "metadata": {},
   "outputs": [],
   "source": [
    "A = np.array([[1.935052353404, 0.887037260957, 1.534235483277, 1.370691224125],\n",
    "       [0.887037260957, 0.81275989158 , 0.610238622918, 0.999150521052],\n",
    "       [1.534235483277, 0.610238622918, 1.562260333538, 1.007843062517],\n",
    "       [1.370691224125, 0.999150521052, 1.007843062517, 1.813258814483]])"
   ]
  },
  {
   "cell_type": "code",
   "execution_count": 67,
   "metadata": {},
   "outputs": [],
   "source": [
    "def MaxEigenvalue(A, err):\n",
    "    (m,n) = A.shape\n",
    "    if(m != n):\n",
    "        print(\"Matrix must be square\")\n",
    "        return\n",
    "    x = np.random.rand(m)\n",
    "    \n",
    "    lam = 0.1\n",
    "    lamprev = 1\n",
    "    while np.abs(1-lam/lamprev) > err:\n",
    "        p = np.dot(A,x)\n",
    "        lamprev = lam\n",
    "        lam = np.max(p)\n",
    "        x = p/lam\n",
    "        \n",
    "    x = x/la.norm(x)\n",
    "    return (lam,x)"
   ]
  },
  {
   "cell_type": "code",
   "execution_count": 68,
   "metadata": {},
   "outputs": [
    {
     "name": "stdout",
     "output_type": "stream",
     "text": [
      "The eigenvalues are qeual to 4.915 0.851 0.215 0.143\n",
      "The eigenvectors are equal to the columns of:\n",
      " [[ 0.59947643 -0.30724043  0.38116617  0.63319961]\n",
      " [ 0.33318804  0.38944484  0.67390096 -0.53214539]\n",
      " [ 0.49528115 -0.58292449 -0.34000252 -0.54707608]\n",
      " [ 0.53320758  0.64353327 -0.53382406  0.1287917 ]]\n"
     ]
    }
   ],
   "source": [
    "\n",
    "def Areduce(matrix,value,vector):\n",
    "    Areduce = np.empty(A.shape)\n",
    "    uuT = np.empty([len(vector),len(vector)])\n",
    "    for i in range(0,A.shape[0]):\n",
    "        for j in range(0,A.shape[1]):\n",
    "            uuT[i][j] = vector[i]*vector[j]\n",
    "            Areduce[i][j] = matrix[i][j] - value*uuT[i][j]\n",
    "    return Areduce"
   ]
  },
  {
   "cell_type": "code",
   "execution_count": null,
   "metadata": {},
   "outputs": [],
   "source": [
    "values = np.zeros(4)\n",
    "vectors = np.empty([4,4])"
   ]
  },
  {
   "cell_type": "code",
   "execution_count": null,
   "metadata": {},
   "outputs": [],
   "source": [
    "(values[0],vectors[:,0]) = MaxEigenvalue(A,10**-6)\n",
    "u1 = vectors[:,0]"
   ]
  },
  {
   "cell_type": "code",
   "execution_count": null,
   "metadata": {},
   "outputs": [],
   "source": [
    "Areduce1 = Areduce(A,values[0],u1)\n",
    "(values[1],vectors[:,1]) = MaxEigenvalue(Areduce1,10**-6)\n",
    "u2 = vectors[:,1]"
   ]
  },
  {
   "cell_type": "code",
   "execution_count": null,
   "metadata": {},
   "outputs": [],
   "source": [
    "Areduce2 = Areduce(Areduce1,values[1],u2)\n",
    "\n",
    "(values[2],vectors[:,2]) = MaxEigenvalue(Areduce2,10**-6)\n",
    "(values[3],vectors[:,3]) = (1/MaxEigenvalue(la.inv(A),10**-8)[0],MaxEigenvalue(la.inv(A),10**-8)[1])"
   ]
  },
  {
   "cell_type": "code",
   "execution_count": 70,
   "metadata": {},
   "outputs": [
    {
     "name": "stdout",
     "output_type": "stream",
     "text": [
      "The eigenvalues are equal to 4.915 0.851 0.143 0.215\n",
      "The eigenvectors are equal to the columns of:\n",
      " [[ 0.59947641  0.30724064 -0.63319959 -0.3811686 ]\n",
      " [ 0.33318806 -0.3894447   0.53214542 -0.67389895]\n",
      " [ 0.49528112  0.58292464  0.54707607  0.34000478]\n",
      " [ 0.53320761 -0.64353313 -0.12879172  0.53382343]]\n"
     ]
    }
   ],
   "source": [
    "print(\"The eigenvalues are equal to\", round(values[0],3),round(values[1],3),round(values[2],3),round(values[3],3))\n",
    "print(\"The eigenvectors are equal to the columns of:\\n\",vectors)"
   ]
  },
  {
   "cell_type": "markdown",
   "metadata": {},
   "source": [
    "Check your answers against Numpy's results from `la.eig(A)`"
   ]
  },
  {
   "cell_type": "code",
   "execution_count": 69,
   "metadata": {},
   "outputs": [
    {
     "name": "stdout",
     "output_type": "stream",
     "text": [
      "The eigenvalues are qeual to 4.915 0.851 0.143 0.215\n",
      "The eigenvectors are equal to the columns of:\n",
      " [[ 0.59947641  0.30724064 -0.63319959 -0.3811686 ]\n",
      " [ 0.33318806 -0.3894447   0.53214542 -0.67389895]\n",
      " [ 0.49528112  0.58292464  0.54707607  0.34000478]\n",
      " [ 0.53320761 -0.64353313 -0.12879172  0.53382343]]\n"
     ]
    }
   ],
   "source": [
    "(values,vectors) = la.eig(A) \n",
    "print(\"The eigenvalues are qeual to\",round(values[0],3),round(values[1],3),round(values[2],3),round(values[3],3))\n",
    "print(\"The eigenvectors are equal to the columns of:\\n\",vectors)"
   ]
  },
  {
   "cell_type": "code",
   "execution_count": null,
   "metadata": {},
   "outputs": [],
   "source": []
  }
 ],
 "metadata": {
  "kernelspec": {
   "display_name": "Python 3",
   "language": "python",
   "name": "python3"
  },
  "language_info": {
   "codemirror_mode": {
    "name": "ipython",
    "version": 3
   },
   "file_extension": ".py",
   "mimetype": "text/x-python",
   "name": "python",
   "nbconvert_exporter": "python",
   "pygments_lexer": "ipython3",
   "version": "3.7.4"
  }
 },
 "nbformat": 4,
 "nbformat_minor": 2
}
