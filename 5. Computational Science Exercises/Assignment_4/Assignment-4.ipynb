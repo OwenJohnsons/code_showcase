{
 "cells": [
  {
   "cell_type": "markdown",
   "metadata": {},
   "source": [
    "# Assignment 4\n",
    "\n",
    "This assignment covers material on numerical integration. The assignment is due on by 7pm on Friday the 6th of March.\n",
    "\n",
    "The breakdown of the marks is as follows:\n",
    "\n",
    "Question 0 - [1 mark]  \n",
    "Question 1 - [4 marks]  \n",
    "Questino 2 - [5 marks]  \n",
    "Question 3 - [5 marks]  \n",
    "Question 4 - [5 marks]  \n",
    "Question 5 - [5 marks]  \n",
    "Question 6 - [5 marks]  "
   ]
  },
  {
   "cell_type": "markdown",
   "metadata": {},
   "source": [
    "# Question 0\n",
    "\n",
    "You should have saved this notebook to your ACM20030-Assignments folder. Now:\n",
    "- commit the notebook to your local repository\n",
    "- push the changes to the GitHub"
   ]
  },
  {
   "cell_type": "code",
   "execution_count": 46,
   "metadata": {},
   "outputs": [],
   "source": [
    "import numpy as np\n",
    "import matplotlib.pyplot as plt\n",
    "\n",
    "# The below commands make the font and image size bigger\n",
    "plt.rcParams.update({'font.size': 22})\n",
    "plt.rcParams[\"figure.figsize\"] = (15,10)"
   ]
  },
  {
   "cell_type": "markdown",
   "metadata": {},
   "source": [
    "# Question 1"
   ]
  },
  {
   "cell_type": "markdown",
   "metadata": {},
   "source": [
    "In this question you will be asked to evaluate definite integrals in the form:\n",
    "\n",
    "$$ \\int_a^b f(x)\\, dx$$ \n",
    "\n",
    "using Simpson's rule. You can copy code from the [examples repository](https://github.com/nielsw2/ACM20030-Examples) if you wish, but if you do remove all the plotting functionality. Do not use SciPy or any other library to evaluate the integrals, unless explicitly asked to do so."
   ]
  },
  {
   "cell_type": "code",
   "execution_count": 2,
   "metadata": {},
   "outputs": [],
   "source": [
    "def SimpsonsIntegrate(f, a, b, N):\n",
    "    dx = (b - a)/N #Differnce in limits divded by step number \n",
    "    xi = a #intial condition\n",
    "    area = 0 #setting both parameters to zero\n",
    "    i = 0\n",
    "    while i < N:\n",
    "        area += dx/6*(f(xi) + 4*f((2*xi+dx)/2) + f(xi+dx)) #determinint area of a function whilst i is less than step number. \n",
    "        xi += dx\n",
    "        i += 1        \n",
    "    return area"
   ]
  },
  {
   "cell_type": "markdown",
   "metadata": {},
   "source": [
    "## Q1 a\n",
    "\n",
    "Evaluate $$ \\frac{1}{\\sqrt{\\pi}}\\int^{10}_{-10} e^{-x^2}\\, dx$$\n",
    "\n",
    "Use enough strips so that the result is accurate to a relative error of of at least 1e-6. Hint: to within machine precision the above integral evaluates to  1 ."
   ]
  },
  {
   "cell_type": "code",
   "execution_count": 4,
   "metadata": {},
   "outputs": [],
   "source": [
    "def a(x): #defining function\n",
    "    return np.e**(-x**2)/np.sqrt(np.pi)"
   ]
  },
  {
   "cell_type": "code",
   "execution_count": 16,
   "metadata": {},
   "outputs": [
    {
     "data": {
      "text/plain": [
       "1.0"
      ]
     },
     "execution_count": 16,
     "metadata": {},
     "output_type": "execute_result"
    }
   ],
   "source": [
    "SimpsonsIntegrate(a,-10,10, 40) #testing steps until desired output is found. "
   ]
  },
  {
   "cell_type": "markdown",
   "metadata": {},
   "source": [
    "## Q1 b\n",
    "\n",
    "Evaluate\n",
    "\n",
    "$$\\int^{50}_{-50} \\frac{1}{\\cosh x}\\,dx $$\n",
    "\n",
    "Use enough strips so that the result is accurate to a relative error of at least `1e-6`. Hint: to within machine precision the above integral evaluates to $\\pi$."
   ]
  },
  {
   "cell_type": "code",
   "execution_count": 9,
   "metadata": {},
   "outputs": [],
   "source": [
    "def b(x): #same process as in Q1 (a)\n",
    "    return 1/np.cosh(x)"
   ]
  },
  {
   "cell_type": "code",
   "execution_count": 13,
   "metadata": {},
   "outputs": [
    {
     "data": {
      "text/plain": [
       "3.1415926535897927"
      ]
     },
     "execution_count": 13,
     "metadata": {},
     "output_type": "execute_result"
    }
   ],
   "source": [
    "SimpsonsIntegrate(b, -50, 50, 1000)"
   ]
  },
  {
   "cell_type": "markdown",
   "metadata": {},
   "source": [
    "## Q1 c\n",
    "\n",
    "Use SciPy's `integrate.quad()` function to evaluate the integrals in Q1a and Q1b"
   ]
  },
  {
   "cell_type": "code",
   "execution_count": 18,
   "metadata": {},
   "outputs": [],
   "source": [
    "from scipy import integrate"
   ]
  },
  {
   "cell_type": "code",
   "execution_count": 19,
   "metadata": {},
   "outputs": [
    {
     "name": "stdout",
     "output_type": "stream",
     "text": [
      "Evaluating the Integral in part (a) 1.0000000000000002\n",
      "Evaluating the Integral in part (b) 3.141592653589793\n"
     ]
    }
   ],
   "source": [
    "print(\"Evaluating the Integral in part (a)\", integrate.quad(a,-10,10)[0]) \n",
    "\n",
    "print(\"Evaluating the Integral in part (b)\", integrate.quad(b,-50,50)[0])"
   ]
  },
  {
   "cell_type": "markdown",
   "metadata": {},
   "source": [
    "# Question 2 - improper integrals\n",
    "\n",
    "In the lectures we looked at numerically evaluating indefinite integrals of the form\n",
    "\n",
    "$$ \\int^b_a f(x)\\, dx$$ where $a,b$ are finite. What about improper integrals where either $a$, $b$ or both are infinite? The methods we know so far cannot immediately be applied to these cases.\n",
    "\n",
    "One method is to transform the integral using the result\n",
    "\n",
    "$$ \\int_a^b f(x)\\, dx = \\int^{1/a}_{1/b} t^{-2} f(t^{-1})\\, dt$$\n",
    "\n",
    "which holds so long as $a,b>0$."
   ]
  },
  {
   "cell_type": "markdown",
   "metadata": {},
   "source": [
    "## Q2 a\n",
    "\n",
    "Using the above result numerically evaluate the following integral\n",
    "\n",
    "$$ \\int^\\infty_1 \\frac{\\log(x)}{x^3}\\,dx $$\n",
    "\n",
    "using Simpson's rule. Use 100 strips to evaluate the integral.\n",
    "\n",
    "Hint: you will have to use an `if` statement inside your transformed function for to deal with $t=0$. For this case it is useful to note that $\\lim_{t\\rightarrow0} t \\log(1/t) = 0$."
   ]
  },
  {
   "cell_type": "code",
   "execution_count": 26,
   "metadata": {},
   "outputs": [],
   "source": [
    "def c(x):\n",
    "    return np.log(x)/x**3\n",
    "\n",
    "def d(t):\n",
    "    if t == 0:\n",
    "        return 0\n",
    "    else:\n",
    "        return t** - 2*c(t** - 1)"
   ]
  },
  {
   "cell_type": "code",
   "execution_count": 29,
   "metadata": {},
   "outputs": [
    {
     "data": {
      "text/plain": [
       "-0.24974471231004408"
      ]
     },
     "execution_count": 29,
     "metadata": {},
     "output_type": "execute_result"
    }
   ],
   "source": [
    "SimpsonsIntegrate(d, 1, 0.01, 100)"
   ]
  },
  {
   "cell_type": "markdown",
   "metadata": {},
   "source": [
    "## Q2 b\n",
    "\n",
    "Numerically evaluate\n",
    "\n",
    "$$ \\int^\\infty_0 \\frac{1}{(x+1)^3}\\,dx$$\n",
    "\n",
    "using Simpson's rule.\n",
    "\n",
    "Hint: break the integral into two integrals, one with a finite domain and one with an infinite domain. In each domain use 100 strips to evalute the integral. Check your answer against the analytic result."
   ]
  },
  {
   "cell_type": "code",
   "execution_count": 22,
   "metadata": {},
   "outputs": [],
   "source": [
    "def c(x):\n",
    "    return 1/(x+1)**3\n",
    "def d(t):\n",
    "    return t**-2*c(t**-1)"
   ]
  },
  {
   "cell_type": "code",
   "execution_count": 25,
   "metadata": {},
   "outputs": [],
   "source": [
    "finite = SimpsonsIntegrate(c, 0, 1, 100)\n",
    "infinite = SimpsonsIntegrate(d , 1, 0, 100)"
   ]
  },
  {
   "cell_type": "code",
   "execution_count": 24,
   "metadata": {},
   "outputs": [
    {
     "name": "stdout",
     "output_type": "stream",
     "text": [
      "0.3750000002050519 + -0.12499999987566948 = 0.25\n"
     ]
    }
   ],
   "source": [
    "print(finite, \"+\" ,infinite,\"=\",round(finite + infinite, 8))"
   ]
  },
  {
   "cell_type": "markdown",
   "metadata": {},
   "source": [
    "# Question 3 - Boole's rule\n",
    "\n",
    "Fitting the integrand to a quintic polynomial results in Boole's rule for integration. In the lecture the formula for Boole's rule was given as\n",
    "\n",
    "$$ \\int^b_a f(x)\\,dx \\simeq \\frac{2 \\Delta x}{45}\\left(7f_0 + 32 f_1 + 12 f_2 +32f_3 + 7 f_4\\right) $$\n",
    "\n",
    "where $\\Delta x = (b-a)/4$, and $f_i = f(a + i\\Delta x)$."
   ]
  },
  {
   "cell_type": "markdown",
   "metadata": {},
   "source": [
    "## Q3 a\n",
    "\n",
    "Write a function that numerically integrates another function using Boole's rule. Use the following function definition:"
   ]
  },
  {
   "cell_type": "code",
   "execution_count": 30,
   "metadata": {},
   "outputs": [],
   "source": [
    "def BooleIntegration(f, a, b, N):\n",
    "    area = 0\n",
    "    deltaX = (b-a)/(4*N)\n",
    "    deltaA = (b-a)/N\n",
    "    for j in range(0,N):\n",
    "        A = a + j*deltaA\n",
    "        F = np.zeros(5)\n",
    "        for i in range (0,5):\n",
    "            F[i] = f(A+i*deltaX)\n",
    "        area += (2*deltaX/45)*(7*F[0]+32*F[1]+12*F[2]+32*F[3]+7*F[4])\n",
    "    return area"
   ]
  },
  {
   "cell_type": "markdown",
   "metadata": {},
   "source": [
    "Test your function by evaluating the following using 100 strips.\n",
    "\n",
    "$$ \\int_0^\\pi \\sin(x)\\,dx $$"
   ]
  },
  {
   "cell_type": "code",
   "execution_count": 31,
   "metadata": {},
   "outputs": [],
   "source": [
    "def sin(x):\n",
    "    return np.sin(x)"
   ]
  },
  {
   "cell_type": "code",
   "execution_count": 32,
   "metadata": {},
   "outputs": [
    {
     "name": "stdout",
     "output_type": "stream",
     "text": [
      "Simpson's Method output 2.000000000676473\n",
      "Boole's Method output 1.999999999999998\n"
     ]
    }
   ],
   "source": [
    "print(\"Simpson's Method output\", SimpsonsIntegrate(np.sin, 0, np.pi, 100))\n",
    "print(\"Boole's Method output\", BooleIntegration(np.sin, 0, np.pi, 100))"
   ]
  },
  {
   "cell_type": "markdown",
   "metadata": {},
   "source": [
    "## Q3 b\n",
    "\n",
    "For Boole's rule show that the global error scales as $\\Delta x^6$. The below plot shows a $\\Delta x^6$ reference line."
   ]
  },
  {
   "cell_type": "code",
   "execution_count": 43,
   "metadata": {},
   "outputs": [],
   "source": [
    "# #--- Graph Sizes --- \n",
    "\n",
    "# plt.rcParams.update({'font.size': 22})\n",
    "# plt.rcParams[\"figure.figsize\"] = (15,10)"
   ]
  },
  {
   "cell_type": "code",
   "execution_count": 52,
   "metadata": {},
   "outputs": [],
   "source": [
    "error = np.empty((4, 2))\n",
    "N = 10\n",
    "for i in range(0,4):\n",
    "    error[i,0] = N\n",
    "    error[i,1] = np.abs(BooleIntegration(np.sin, 0, np.pi, N) - 2)\n",
    "    N *= 2\n",
    "    \n",
    "x = np.linspace(9,480,100)\n",
    "y = (x**-6)"
   ]
  },
  {
   "cell_type": "code",
   "execution_count": 54,
   "metadata": {},
   "outputs": [
    {
     "data": {
      "image/png": "[encoded data removed]",
      "text/plain": [
       "<Figure size 1080x720 with 1 Axes>"
      ]
     },
     "metadata": {
      "needs_background": "light"
     },
     "output_type": "display_data"
    }
   ],
   "source": [
    "\n",
    "\n",
    "#--- Scales --- \n",
    "\n",
    "plt.yscale('log')\n",
    "plt.xscale('log')\n",
    "\n",
    "\n",
    "#--- Plot --- \n",
    "plt.scatter(error[:,0],error[:,1],label = \"Error of BooleIntegration\")\n",
    "plt.plot(x,y,'r-',label = \"$x^{-6}$\");\n",
    "\n",
    "#--- Limits --- \n",
    "\n",
    "plt.xlim(9, 100);\n",
    "plt.ylim(10**-15, 10**-5)\n",
    "\n",
    "#--- Labels ---\n",
    "\n",
    "plt.ylabel(\"Value for error\")\n",
    "plt.xlabel(\"Step iterations\")\n",
    "plt.grid()\n",
    "plt.legend();"
   ]
  },
  {
   "cell_type": "markdown",
   "metadata": {},
   "source": [
    "# Question 4 - integrand with a singularity\n",
    "\n",
    "The techniques developed in the lecture require the integrand to be continuous and bounded. What happens if there is a singularity in the integrand? In general these can be difficult to deal with (though some more generic methods exist - see, e.g., [Tanh-sinh quadrature](https://en.wikipedia.org/wiki/Tanh-sinh_quadrature)).\n",
    "\n",
    "In this example we will look at an explicit example that can be dealt with by a change of variables. Consider the identity:\n",
    "\n",
    "$$ \\int_0^1 \\frac{f(x)}{x^\\alpha}\\, dx = \\frac{1}{\\alpha} \\int_0^1 f(t^{1/\\alpha}) t^{(1-2\\alpha)/\\alpha}\\,dt$$\n",
    "\n",
    "which is achived by changing variables using $t = x^\\alpha$. This identity holds when $0 < \\alpha < 1$ and $f(x)$ is continous on $[0,1]$."
   ]
  },
  {
   "cell_type": "markdown",
   "metadata": {},
   "source": [
    "Let\n",
    "$$I = \\int^1_0 \\frac{\\cos(10x)}{x^{1/2}}\\,dx $$\n",
    "\n",
    "Plot the integrand in the range $[0,1]$, use a grid and label your axes."
   ]
  },
  {
   "cell_type": "code",
   "execution_count": 49,
   "metadata": {},
   "outputs": [],
   "source": [
    "def I(x):\n",
    "    return np.cos(10*x)/np.sqrt(x)"
   ]
  },
  {
   "cell_type": "code",
   "execution_count": 58,
   "metadata": {},
   "outputs": [
    {
     "name": "stderr",
     "output_type": "stream",
     "text": [
      "/home/owen/Downloads/home/owen/yeet/lib/python3.7/site-packages/ipykernel_launcher.py:2: RuntimeWarning: divide by zero encountered in true_divide\n",
      "  \n"
     ]
    },
    {
     "data": {
      "image/png": "[encoded data removed]",
      "text/plain": [
       "<Figure size 1080x720 with 1 Axes>"
      ]
     },
     "metadata": {
      "needs_background": "light"
     },
     "output_type": "display_data"
    }
   ],
   "source": [
    "x = np.linspace(0,1,500)\n",
    "\n",
    "#--- Plot --- \n",
    "plt.plot(x,I(x));\n",
    "\n",
    "#--- Labels --- \n",
    "\n",
    "plt.xlabel(\"x\")\n",
    "plt.ylabel(\"y\")\n",
    "plt.grid()"
   ]
  },
  {
   "cell_type": "markdown",
   "metadata": {},
   "source": [
    "Define and plot the transformed integrand. For the plot use a grid and label your axes."
   ]
  },
  {
   "cell_type": "code",
   "execution_count": 61,
   "metadata": {},
   "outputs": [],
   "source": [
    "def transformed(t):\n",
    "    return 2*np.cos(10*t**2)"
   ]
  },
  {
   "cell_type": "code",
   "execution_count": 62,
   "metadata": {},
   "outputs": [
    {
     "data": {
      "image/png": "[encoded data removed]",
      "text/plain": [
       "<Figure size 1080x720 with 1 Axes>"
      ]
     },
     "metadata": {
      "needs_background": "light"
     },
     "output_type": "display_data"
    }
   ],
   "source": [
    "# --- Plot --- \n",
    "\n",
    "plt.plot(x, transformed(x))\n",
    "\n",
    "# --- Labels --- \n",
    "\n",
    "plt.xlabel(\"x\")\n",
    "plt.ylabel(\"I(x), Transformed\")\n",
    "plt.grid()"
   ]
  },
  {
   "cell_type": "markdown",
   "metadata": {},
   "source": [
    "Numerically evaluate $I$ using Simpson's rule. Use 100 strips to do this."
   ]
  },
  {
   "cell_type": "code",
   "execution_count": 68,
   "metadata": {},
   "outputs": [
    {
     "name": "stdout",
     "output_type": "stream",
     "text": [
      "Integral of I(x) using 100 strips is equal to 0.34636620914645183\n"
     ]
    }
   ],
   "source": [
    "print(\"Integral of I(x) using 100 strips is equal to\", SimpsonsIntegrate(transformed, 0, 1, 100))"
   ]
  },
  {
   "cell_type": "markdown",
   "metadata": {},
   "source": [
    "# Question 5\n",
    "\n",
    "Write your own function to integrate the following data using Simpson's rule."
   ]
  },
  {
   "cell_type": "code",
   "execution_count": 75,
   "metadata": {},
   "outputs": [],
   "source": [
    "x = np.linspace(0, np.pi, 101)\n",
    "dx = x[1]-x[0]\n",
    "y = np.sin(x)"
   ]
  },
  {
   "cell_type": "code",
   "execution_count": 78,
   "metadata": {},
   "outputs": [],
   "source": [
    "def SimpsonsIntegrateData(x, y, dx):\n",
    "    area = 0\n",
    "    \n",
    "    for i in range(0, int((len(x) - 1)/2)):\n",
    "        area += (dx/3)*(y[2*i] + 4*y[2*i + 1]+ y[2*i + 2]) \n",
    "        #3 is used instead of 6, because there are two iterations ran thus 6 in total is covered. \n",
    "    return area"
   ]
  },
  {
   "cell_type": "markdown",
   "metadata": {
    "scrolled": true
   },
   "source": [
    "Integrate the data using your function"
   ]
  },
  {
   "cell_type": "code",
   "execution_count": 79,
   "metadata": {},
   "outputs": [
    {
     "name": "stdout",
     "output_type": "stream",
     "text": [
      "Integral of asked function is equal to 2.000000010824504\n"
     ]
    }
   ],
   "source": [
    "print(\"Integral of asked function is equal to\", SimpsonsIntegrateData(x, y, dx))"
   ]
  },
  {
   "cell_type": "markdown",
   "metadata": {},
   "source": [
    "Recall that Simpson's method needs an odd number of data points to work. If you use an even number you will get a bad result. If you check the convergence rate in this case you will see it is not what is expected. Checking the convergence rate is an important test of an integration code."
   ]
  },
  {
   "cell_type": "markdown",
   "metadata": {},
   "source": [
    "# Question 6\n",
    "\n",
    "Evaluate the following integral using both Simpsons rule and an RK4 ODE method\n",
    "\n",
    "$$ \\int_0^5 \\sinh(x) (x-5)\\, dx $$\n",
    "\n",
    "Compare the results of the two methods and take sufficient strips/small enough step sizes to ensure the results agree to a relative accuracy of 1e-6."
   ]
  },
  {
   "cell_type": "code",
   "execution_count": 85,
   "metadata": {},
   "outputs": [],
   "source": [
    "def arraysolver(f, dx, x0, y0, imax):\n",
    "    xi = x0\n",
    "    yi = y0\n",
    "    steps = np.zeros((imax+1,2))\n",
    "    steps[0,0] = x0\n",
    "    steps[0,1] = y0\n",
    "    i = 0\n",
    "    while i < imax:\n",
    "        k1 = dx*f(xi,yi)\n",
    "        k2 = dx*f(xi + 0.5*dx, yi + 0.5*k1)\n",
    "        k3 = dx*f(xi + 0.5*dx, yi + 0.5*k2)\n",
    "        k4 = dx*f(xi + dx, yi + k3)\n",
    "        yi += 1/6*(k1 + 2*k2 + 2*k3 + k4)    \n",
    "        xi += dx\n",
    "        i  += 1\n",
    "        steps[i, 0] = xi\n",
    "        steps[i, 1] = yi          \n",
    "    return [xi, yi]"
   ]
  },
  {
   "cell_type": "code",
   "execution_count": 83,
   "metadata": {},
   "outputs": [],
   "source": [
    "def e(x, y = 0): #Function dependant on two parameters, x and y \n",
    "    return np.sinh(x)*(x - 5)"
   ]
  },
  {
   "cell_type": "code",
   "execution_count": 89,
   "metadata": {},
   "outputs": [
    {
     "name": "stdout",
     "output_type": "stream",
     "text": [
      "Simpson's Method outputs the following -69.12792746842231\n",
      "and the RK4 method gives -69.12792746842231\n"
     ]
    }
   ],
   "source": [
    "print(\"Simpson's Method outputs the following\",SimpsonsIntegrate(e, 0, 5, 5)) #5 Steps used from 0 to 5 \n",
    "print(\"and the RK4 method gives\", arraysolver(e, 1, 0, 0, 5)[1])   #5 Steps used from 0 to 5 \n"
   ]
  }
 ],
 "metadata": {
  "kernelspec": {
   "display_name": "Python 3",
   "language": "python",
   "name": "python3"
  },
  "language_info": {
   "codemirror_mode": {
    "name": "ipython",
    "version": 3
   },
   "file_extension": ".py",
   "mimetype": "text/x-python",
   "name": "python",
   "nbconvert_exporter": "python",
   "pygments_lexer": "ipython3",
   "version": "3.7.4"
  }
 },
 "nbformat": 4,
 "nbformat_minor": 2
}
